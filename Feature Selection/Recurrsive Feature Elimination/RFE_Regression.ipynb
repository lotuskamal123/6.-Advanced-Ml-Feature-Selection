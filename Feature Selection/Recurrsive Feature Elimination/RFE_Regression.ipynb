{
 "cells": [
  {
   "cell_type": "code",
   "execution_count": 1,
   "id": "c0a71305",
   "metadata": {},
   "outputs": [],
   "source": [
    "import pandas as pd\n",
    "from sklearn.model_selection import train_test_split\n",
    "from sklearn.preprocessing import StandardScaler\n",
    "from sklearn.linear_model import LinearRegression, LogisticRegression\n",
    "from sklearn.svm import SVR\n",
    "from sklearn.tree import DecisionTreeRegressor\n",
    "from sklearn.ensemble import RandomForestRegressor\n",
    "from sklearn.metrics import r2_score\n",
    "from sklearn.feature_selection import RFE"
   ]
  },
  {
   "cell_type": "code",
   "execution_count": 2,
   "id": "ed6a6701",
   "metadata": {},
   "outputs": [],
   "source": [
    "def split_scalar(indep_X, dep_Y):\n",
    "    X_train, X_test, y_train, y_test = train_test_split(indep_X, dep_Y, test_size=0.25, random_state=0)\n",
    "    sc = StandardScaler()\n",
    "    X_train = sc.fit_transform(X_train)\n",
    "    X_test = sc.transform(X_test)\n",
    "    return X_train, X_test, y_train, y_test"
   ]
  },
  {
   "cell_type": "code",
   "execution_count": 3,
   "id": "2998343b",
   "metadata": {},
   "outputs": [],
   "source": [
    "def r2_prediction(regressor, X_test, y_test):\n",
    "    y_pred = regressor.predict(X_test)\n",
    "    r2 = r2_score(y_test, y_pred)\n",
    "    return r2"
   ]
  },
  {
   "cell_type": "code",
   "execution_count": 4,
   "id": "c90c8727",
   "metadata": {},
   "outputs": [],
   "source": [
    "def Linear(X_train, y_train, X_test, y_test):\n",
    "    regressor = LinearRegression()\n",
    "    regressor.fit(X_train, y_train)\n",
    "    return r2_prediction(regressor, X_test, y_test)"
   ]
  },
  {
   "cell_type": "code",
   "execution_count": 5,
   "id": "298ba2cf",
   "metadata": {},
   "outputs": [],
   "source": [
    "def svm_linear(X_train, y_train, X_test, y_test):\n",
    "    regressor = SVR(kernel='linear')\n",
    "    regressor.fit(X_train, y_train)\n",
    "    return r2_prediction(regressor, X_test, y_test)"
   ]
  },
  {
   "cell_type": "code",
   "execution_count": 6,
   "id": "a6952774",
   "metadata": {},
   "outputs": [],
   "source": [
    "def svm_NL(X_train, y_train, X_test, y_test):\n",
    "    regressor = SVR(kernel='rbf')\n",
    "    regressor.fit(X_train, y_train)\n",
    "    return r2_prediction(regressor, X_test, y_test)"
   ]
  },
  {
   "cell_type": "code",
   "execution_count": 7,
   "id": "1a8e12bc",
   "metadata": {},
   "outputs": [],
   "source": [
    "def Decision(X_train, y_train, X_test, y_test):\n",
    "    regressor = DecisionTreeRegressor(random_state=0)\n",
    "    regressor.fit(X_train, y_train)\n",
    "    return r2_prediction(regressor, X_test, y_test)"
   ]
  },
  {
   "cell_type": "code",
   "execution_count": 8,
   "id": "afaf7c56",
   "metadata": {},
   "outputs": [],
   "source": [
    "def random(X_train, y_train, X_test, y_test):\n",
    "    regressor = RandomForestRegressor(n_estimators=10, random_state=0)\n",
    "    regressor.fit(X_train, y_train)\n",
    "    return r2_prediction(regressor, X_test, y_test)"
   ]
  },
  {
   "cell_type": "code",
   "execution_count": 9,
   "id": "8fda743a",
   "metadata": {},
   "outputs": [],
   "source": [
    "def rfeFeature(indep_X, dep_Y, n):\n",
    "    rfelist = []\n",
    "    model = LogisticRegression(max_iter=10000)\n",
    "    log_rfe = RFE(estimator=model, n_features_to_select=n)\n",
    "    log_fit = log_rfe.fit(indep_X, dep_Y)\n",
    "    log_rfe_feature = log_fit.transform(indep_X)\n",
    "    rfelist.append(log_rfe_feature)\n",
    "    return rfelist"
   ]
  },
  {
   "cell_type": "code",
   "execution_count": 10,
   "id": "fb6a4ba0",
   "metadata": {},
   "outputs": [],
   "source": [
    "# Load and preprocess dataset\n",
    "dataset1 = pd.read_csv(\"prep.csv\", index_col=None)\n",
    "df2 = pd.get_dummies(dataset1, drop_first=True)\n",
    "indep_X = df2.drop('classification_yes', axis=1)\n",
    "dep_Y = df2['classification_yes']"
   ]
  },
  {
   "cell_type": "code",
   "execution_count": 27,
   "id": "eff5ae64",
   "metadata": {},
   "outputs": [],
   "source": [
    "# Feature selection with RFE\n",
    "rfelist = rfeFeature(indep_X, dep_Y, 6)"
   ]
  },
  {
   "cell_type": "code",
   "execution_count": 28,
   "id": "01e49149",
   "metadata": {},
   "outputs": [],
   "source": [
    "# Initialize lists for storing results\n",
    "acclin, accsvml, accsvmnl, accdes, accrf = [], [], [], [], []"
   ]
  },
  {
   "cell_type": "code",
   "execution_count": 29,
   "id": "e051ae03",
   "metadata": {},
   "outputs": [],
   "source": [
    "# Loop through each RFE-selected feature set\n",
    "for i in rfelist:\n",
    "    X_train, X_test, y_train, y_test = split_scalar(i, dep_Y)\n",
    "    acclin.append(Linear(X_train, y_train, X_test, y_test))\n",
    "    accsvml.append(svm_linear(X_train, y_train, X_test, y_test))\n",
    "    accsvmnl.append(svm_NL(X_train, y_train, X_test, y_test))\n",
    "    accdes.append(Decision(X_train, y_train, X_test, y_test))\n",
    "    accrf.append(random(X_train, y_train, X_test, y_test))"
   ]
  },
  {
   "cell_type": "code",
   "execution_count": 30,
   "id": "d2880b09",
   "metadata": {},
   "outputs": [],
   "source": [
    "# Compile the results into a dictionary\n",
    "result = {\n",
    "    'Linear Regression': acclin,\n",
    "    'SVM Linear': accsvml,\n",
    "    'SVM Non-linear': accsvmnl,\n",
    "    'Decision Tree': accdes,\n",
    "    'Random Forest': accrf\n",
    "}"
   ]
  },
  {
   "cell_type": "code",
   "execution_count": 26,
   "id": "c5b49b4b",
   "metadata": {},
   "outputs": [
    {
     "data": {
      "text/plain": [
       "{'Linear Regression': [0.6018452016791436],\n",
       " 'SVM Linear': [0.415993665811769],\n",
       " 'SVM Non-linear': [0.7482495830867761],\n",
       " 'Decision Tree': [0.7756440140657468],\n",
       " 'Random Forest': [0.7745261062636659]}"
      ]
     },
     "execution_count": 26,
     "metadata": {},
     "output_type": "execute_result"
    }
   ],
   "source": [
    "# Output the result\n",
    "# 3\n",
    "result"
   ]
  },
  {
   "cell_type": "code",
   "execution_count": 21,
   "id": "85da0a31",
   "metadata": {},
   "outputs": [
    {
     "data": {
      "text/plain": [
       "{'Linear Regression': [0.6354782339330636],\n",
       " 'SVM Linear': [0.5825676210731331],\n",
       " 'SVM Non-linear': [0.9017744940680847],\n",
       " 'Decision Tree': [0.9177182227989892],\n",
       " 'Random Forest': [0.9172744732842161]}"
      ]
     },
     "execution_count": 21,
     "metadata": {},
     "output_type": "execute_result"
    }
   ],
   "source": [
    "# Output the result\n",
    "# 5\n",
    "result"
   ]
  },
  {
   "cell_type": "code",
   "execution_count": 31,
   "id": "d4513492",
   "metadata": {},
   "outputs": [
    {
     "data": {
      "text/plain": [
       "{'Linear Regression': [0.7058376937901304],\n",
       " 'SVM Linear': [0.6678384748123201],\n",
       " 'SVM Non-linear': [0.9314388008374008],\n",
       " 'Decision Tree': [0.974312641723356],\n",
       " 'Random Forest': [0.9518705772708939]}"
      ]
     },
     "execution_count": 31,
     "metadata": {},
     "output_type": "execute_result"
    }
   ],
   "source": [
    "# Output the result\n",
    "# 6\n",
    "result"
   ]
  },
  {
   "cell_type": "code",
   "execution_count": null,
   "id": "3bf878a0",
   "metadata": {},
   "outputs": [],
   "source": []
  }
 ],
 "metadata": {
  "kernelspec": {
   "display_name": "Python 3 (ipykernel)",
   "language": "python",
   "name": "python3"
  },
  "language_info": {
   "codemirror_mode": {
    "name": "ipython",
    "version": 3
   },
   "file_extension": ".py",
   "mimetype": "text/x-python",
   "name": "python",
   "nbconvert_exporter": "python",
   "pygments_lexer": "ipython3",
   "version": "3.11.5"
  }
 },
 "nbformat": 4,
 "nbformat_minor": 5
}
